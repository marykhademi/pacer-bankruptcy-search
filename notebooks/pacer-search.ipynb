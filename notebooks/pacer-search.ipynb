{
 "cells": [
  {
   "cell_type": "markdown",
   "metadata": {},
   "source": [
    "##### Bankruptcy Cases Search through CourtListener PACER Archive "
   ]
  },
  {
   "cell_type": "code",
   "execution_count": null,
   "metadata": {},
   "outputs": [
    {
     "ename": "",
     "evalue": "",
     "output_type": "error",
     "traceback": [
      "\u001b[1;31mFailed to start the Kernel 'venv (Python 3.13.7)'. \n",
      "\u001b[1;31mView Jupyter <a href='command:jupyter.viewOutput'>log</a> for further details. Cannot find module '@jupyterlab/services/lib/kernel/default'\n",
      "\u001b[1;31mRequire stack:\n",
      "\u001b[1;31m- /Users/maryamkhademi/.vscode/extensions/ms-toolsai.jupyter-2025.2.0-darwin-arm64/dist/extension.node.js\n",
      "\u001b[1;31m- /Users/maryamkhademi/.vscode/extensions/ms-toolsai.jupyter-2025.2.0-darwin-arm64/dist/extension.node.proxy.js\n",
      "\u001b[1;31m- /private/var/folders/mz/gw9dx21s1j50f173xy0l56gc0000gn/T/AppTranslocation/8E53C509-A3EA-4338-8EEE-88A154E1EF71/d/Visual Studio Code.app/Contents/Resources/app/out/vs/workbench/api/node/extensionHostProcess.js"
     ]
    }
   ],
   "source": [
    "import pandas as pd"
   ]
  },
  {
   "cell_type": "markdown",
   "metadata": {},
   "source": []
  }
 ],
 "metadata": {
  "kernelspec": {
   "display_name": "venv",
   "language": "python",
   "name": "python3"
  },
  "language_info": {
   "name": "python",
   "version": "3.13.7"
  }
 },
 "nbformat": 4,
 "nbformat_minor": 2
}
